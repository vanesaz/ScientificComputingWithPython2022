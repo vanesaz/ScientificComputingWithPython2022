{
 "cells": [
  {
   "cell_type": "markdown",
   "metadata": {},
   "source": [
    "1\\. **Reductions**\n",
    "\n",
    "Find the total mean, and the mean for each row and column of the following matrix:\n",
    "\n",
    "```python\n",
    "m = np.arange(12).reshape((3,4))\n",
    "```"
   ]
  },
  {
   "cell_type": "code",
   "execution_count": 2,
   "metadata": {},
   "outputs": [
    {
     "name": "stdout",
     "output_type": "stream",
     "text": [
      "[[ 0  1  2  3]\n",
      " [ 4  5  6  7]\n",
      " [ 8  9 10 11]] 5.5 [1.5 5.5 9.5] [4. 5. 6. 7.]\n"
     ]
    }
   ],
   "source": [
    "import numpy as np\n",
    "m = np.arange(12).reshape((3,4))\n",
    "totalMean= np.mean(m)\n",
    "meanForRow= np.mean(m, axis=1)\n",
    "meanForColumn= np.mean(m, axis=0)\n",
    "print(m,totalMean, meanForRow, meanForColumn)\n"
   ]
  },
  {
   "cell_type": "markdown",
   "metadata": {},
   "source": [
    "2\\. **Outer product**\n",
    "\n",
    "Find the outer product of the following vectors:\n",
    "\n",
    "```python\n",
    "u = np.array([1, 3, 5, 7])\n",
    "v = np.array([2, 4, 6, 8])\n",
    "```\n",
    "\n",
    "Use different methods to do this:\n",
    "\n",
    "   1. Using the function `outer` in numpy\n",
    "   2. Using a nested `for` loop or a list comprehension\n",
    "   3. Using numpy broadcasting operations"
   ]
  },
  {
   "cell_type": "code",
   "execution_count": 106,
   "metadata": {},
   "outputs": [
    {
     "name": "stdout",
     "output_type": "stream",
     "text": [
      "[[ 2  4  6  8]\n",
      " [ 6 12 18 24]\n",
      " [10 20 30 40]\n",
      " [14 28 42 56]] [[ 2  4  6  8]\n",
      " [ 6 12 18 24]\n",
      " [10 20 30 40]\n",
      " [14 28 42 56]] [[ 2  4  6  8]\n",
      " [ 6 12 18 24]\n",
      " [10 20 30 40]\n",
      " [14 28 42 56]] [[ 2  4  6  8]\n",
      " [ 6 12 18 24]\n",
      " [10 20 30 40]\n",
      " [14 28 42 56]]\n"
     ]
    }
   ],
   "source": [
    "#1\n",
    "u = np.array([1, 3, 5, 7])\n",
    "v = np.array([2, 4, 6, 8])\n",
    "uv1=np.outer(u,v)\n",
    "#2\n",
    "uv2= np.array([ (i*j) for i in u for j in v ]).reshape(len(u), len(v))\n",
    "#3a\n",
    "u=u[:,None]\n",
    "v=v[None, :]\n",
    "uv3=u*v\n",
    "#3b\n",
    "v1=np.tile(v,(len(u),1))\n",
    "uv4= v1*u.reshape(len(u),1)\n",
    "print(uv1, uv2,uv3, uv4)"
   ]
  },
  {
   "cell_type": "markdown",
   "metadata": {},
   "source": [
    "3\\. **Matrix masking**\n",
    "\n",
    "Create a 10 by 6 matrix of float random numbers, distributed between 0 and 3 according to a flat distribution.\n",
    "\n",
    "After creating the matrix, set all entries $< 0.3$ to zero using a mask."
   ]
  },
  {
   "cell_type": "code",
   "execution_count": 20,
   "metadata": {},
   "outputs": [
    {
     "name": "stdout",
     "output_type": "stream",
     "text": [
      "[[1.90819324 1.07117276 1.74867299 0.63993623 2.99742417 0.6279728 ]\n",
      " [0.92227258 1.72472627 0.78607398 2.95802794 1.94588311 0.03518176]\n",
      " [0.60138338 0.2746726  0.74029481 1.0585913  1.30278911 2.55374592]\n",
      " [0.56759019 1.66311425 1.21016185 0.31669854 0.66979577 1.70369696]\n",
      " [1.15289931 0.06041328 1.77434964 2.552642   1.4558253  2.99171558]\n",
      " [2.69147781 2.15755648 1.90891081 0.84232282 0.64063181 1.27424674]\n",
      " [2.32479829 1.63966515 1.21734611 1.26751237 0.90815268 1.15792525]\n",
      " [2.69622491 2.697353   2.50148129 0.45966978 0.0746384  0.59778458]\n",
      " [1.40090676 2.89641336 1.47409763 2.5483954  0.69351442 1.38984952]\n",
      " [0.10595171 1.36106365 1.2178908  1.43817734 0.67306745 0.85943729]] \n",
      " [[1.90819324 1.07117276 1.74867299 0.63993623 2.99742417 0.6279728 ]\n",
      " [0.92227258 1.72472627 0.78607398 2.95802794 1.94588311 0.        ]\n",
      " [0.60138338 0.         0.74029481 1.0585913  1.30278911 2.55374592]\n",
      " [0.56759019 1.66311425 1.21016185 0.31669854 0.66979577 1.70369696]\n",
      " [1.15289931 0.         1.77434964 2.552642   1.4558253  2.99171558]\n",
      " [2.69147781 2.15755648 1.90891081 0.84232282 0.64063181 1.27424674]\n",
      " [2.32479829 1.63966515 1.21734611 1.26751237 0.90815268 1.15792525]\n",
      " [2.69622491 2.697353   2.50148129 0.45966978 0.         0.59778458]\n",
      " [1.40090676 2.89641336 1.47409763 2.5483954  0.69351442 1.38984952]\n",
      " [0.         1.36106365 1.2178908  1.43817734 0.67306745 0.85943729]]\n"
     ]
    }
   ],
   "source": [
    "import numpy.random as npr\n",
    "m=npr.uniform(low=0.0, high=3.0, size=(10,6))\n",
    "filtered_m=m.copy()\n",
    "filtered_m[filtered_m<0.3]=0\n",
    "print(m ,\"\\n\",filtered_m)"
   ]
  },
  {
   "cell_type": "markdown",
   "metadata": {},
   "source": [
    "4\\. **Trigonometric functions**\n",
    "\n",
    "Use `np.linspace` to create an array of 100 numbers between $0$ and $2\\pi$ (inclusive).\n",
    "\n",
    "  * Extract every 10th element using the slice notation\n",
    "  * Reverse the array using the slice notation\n",
    "  * Extract elements where the absolute difference between the `sin` and `cos` functions evaluated for that element is $< 0.1$\n",
    "  * **Optional**: make a plot showing the sin and cos functions and indicate where they are close"
   ]
  },
  {
   "cell_type": "code",
   "execution_count": null,
   "metadata": {},
   "outputs": [],
   "source": []
  },
  {
   "cell_type": "code",
   "execution_count": 92,
   "metadata": {},
   "outputs": [
    {
     "name": "stdout",
     "output_type": "stream",
     "text": [
      "[0.         0.06346652 0.12693304 0.19039955 0.25386607 0.31733259\n",
      " 0.38079911 0.44426563 0.50773215 0.57119866 0.63466518 0.6981317\n",
      " 0.76159822 0.82506474 0.88853126 0.95199777 1.01546429 1.07893081\n",
      " 1.14239733 1.20586385 1.26933037 1.33279688 1.3962634  1.45972992\n",
      " 1.52319644 1.58666296 1.65012947 1.71359599 1.77706251 1.84052903\n",
      " 1.90399555 1.96746207 2.03092858 2.0943951  2.15786162 2.22132814\n",
      " 2.28479466 2.34826118 2.41172769 2.47519421 2.53866073 2.60212725\n",
      " 2.66559377 2.72906028 2.7925268  2.85599332 2.91945984 2.98292636\n",
      " 3.04639288 3.10985939 3.17332591 3.23679243 3.30025895 3.36372547\n",
      " 3.42719199 3.4906585  3.55412502 3.61759154 3.68105806 3.74452458\n",
      " 3.8079911  3.87145761 3.93492413 3.99839065 4.06185717 4.12532369\n",
      " 4.1887902  4.25225672 4.31572324 4.37918976 4.44265628 4.5061228\n",
      " 4.56958931 4.63305583 4.69652235 4.75998887 4.82345539 4.88692191\n",
      " 4.95038842 5.01385494 5.07732146 5.14078798 5.2042545  5.26772102\n",
      " 5.33118753 5.39465405 5.45812057 5.52158709 5.58505361 5.64852012\n",
      " 5.71198664 5.77545316 5.83891968 5.9023862  5.96585272 6.02931923\n",
      " 6.09278575 6.15625227 6.21971879 6.28318531] [0.57119866 1.14239733 1.71359599 2.28479466 2.85599332 3.42719199\n",
      " 3.99839065 4.56958931 5.14078798 5.71198664 6.28318531] [6.28318531 6.21971879 6.15625227 6.09278575 6.02931923 5.96585272\n",
      " 5.9023862  5.83891968 5.77545316 5.71198664 5.64852012 5.58505361\n",
      " 5.52158709 5.45812057 5.39465405 5.33118753 5.26772102 5.2042545\n",
      " 5.14078798 5.07732146 5.01385494 4.95038842 4.88692191 4.82345539\n",
      " 4.75998887 4.69652235 4.63305583 4.56958931 4.5061228  4.44265628\n",
      " 4.37918976 4.31572324 4.25225672 4.1887902  4.12532369 4.06185717\n",
      " 3.99839065 3.93492413 3.87145761 3.8079911  3.74452458 3.68105806\n",
      " 3.61759154 3.55412502 3.4906585  3.42719199 3.36372547 3.30025895\n",
      " 3.23679243 3.17332591 3.10985939 3.04639288 2.98292636 2.91945984\n",
      " 2.85599332 2.7925268  2.72906028 2.66559377 2.60212725 2.53866073\n",
      " 2.47519421 2.41172769 2.34826118 2.28479466 2.22132814 2.15786162\n",
      " 2.0943951  2.03092858 1.96746207 1.90399555 1.84052903 1.77706251\n",
      " 1.71359599 1.65012947 1.58666296 1.52319644 1.45972992 1.3962634\n",
      " 1.33279688 1.26933037 1.20586385 1.14239733 1.07893081 1.01546429\n",
      " 0.95199777 0.88853126 0.82506474 0.76159822 0.6981317  0.63466518\n",
      " 0.57119866 0.50773215 0.44426563 0.38079911 0.31733259 0.25386607\n",
      " 0.19039955 0.12693304 0.06346652 0.        ] [0.76159822 0.82506474 3.87145761 3.93492413]\n"
     ]
    },
    {
     "data": {
      "image/png": "[encoded data removed]",
      "text/plain": [
       "<Figure size 432x288 with 1 Axes>"
      ]
     },
     "metadata": {
      "needs_background": "light"
     },
     "output_type": "display_data"
    }
   ],
   "source": [
    "import math as math\n",
    "from matplotlib import pylab\n",
    "from pylab import *\n",
    "a= np.linspace(0,2*math.pi,100, endpoint=True)\n",
    "#1\n",
    "b=a.copy()\n",
    "i=0\n",
    "b=b[9:100:9]\n",
    "#2\n",
    "c=a.copy()\n",
    "c=c[::-1]\n",
    "#3\n",
    "mask=np.abs(np.sin(a)-np.cos(a))<=0.1\n",
    "d=a[mask]\n",
    "#4\n",
    "pylab.plot(a,np.sin(a))\n",
    "pylab.plot(a,np.cos(a))\n",
    "pylab.plot(a,np.abs(np.sin(a)-np.cos(a))<=0.1)\n",
    "print(a,b,c,d)"
   ]
  },
  {
   "cell_type": "markdown",
   "metadata": {},
   "source": [
    "5\\. **Matrices**\n",
    "\n",
    "Create a matrix that shows the 10 by 10 multiplication table.\n",
    "\n",
    " * Find the trace of the matrix\n",
    " * Extract the anti-diagonal matrix (this should be ```array([10, 18, 24, 28, 30, 30, 28, 24, 18, 10])```)\n",
    " * Extract the diagonal offset by 1 upwards (this should be ```array([ 2,  6, 12, 20, 30, 42, 56, 72, 90])```)"
   ]
  },
  {
   "cell_type": "code",
   "execution_count": 107,
   "metadata": {},
   "outputs": [
    {
     "name": "stdout",
     "output_type": "stream",
     "text": [
      "[ 1  2  3  4  5  6  7  8  9 10] [[  1   2   3   4   5   6   7   8   9  10]\n",
      " [  2   4   6   8  10  12  14  16  18  20]\n",
      " [  3   6   9  12  15  18  21  24  27  30]\n",
      " [  4   8  12  16  20  24  28  32  36  40]\n",
      " [  5  10  15  20  25  30  35  40  45  50]\n",
      " [  6  12  18  24  30  36  42  48  54  60]\n",
      " [  7  14  21  28  35  42  49  56  63  70]\n",
      " [  8  16  24  32  40  48  56  64  72  80]\n",
      " [  9  18  27  36  45  54  63  72  81  90]\n",
      " [ 10  20  30  40  50  60  70  80  90 100]] 385 [10 18 24 28 30 30 28 24 18 10] [ 2  6 12 20 30 42 56 72 90]\n"
     ]
    }
   ],
   "source": [
    "n = np.arange(1, 11)\n",
    "m = n[:, None] * ns[None, :]\n",
    "t= m.trace()\n",
    "ad=np.flipud(m).diagonal()\n",
    "do= m.diagonal(offset=1)\n",
    "print(n,m,t,ad,do)"
   ]
  },
  {
   "cell_type": "markdown",
   "metadata": {},
   "source": [
    "6\\. **Broadcasting**\n",
    "\n",
    "Use broadcasting to create a grid of distances.\n",
    "\n",
    "Route 66 crosses the following cities in the US: Chicago, Springfield, Saint-Louis, Tulsa, Oklahoma City, Amarillo, Santa Fe, Albuquerque, Flagstaff, Los Angeles.\n",
    "\n",
    "The corresponding positions in miles are: 0, 198, 303, 736, 871, 1175, 1475, 1544, 1913, 2448\n",
    "\n",
    "  * Build a 2D grid of distances among each city along Route 66\n",
    "  * Convert the distances in km"
   ]
  },
  {
   "cell_type": "code",
   "execution_count": 4,
   "metadata": {},
   "outputs": [
    {
     "name": "stdout",
     "output_type": "stream",
     "text": [
      "[   0  198  303  736  871 1175 1475 1544 1913 2448] [[   0  198  303  736  871 1175 1475 1544 1913 2448]\n",
      " [ 198    0  105  538  673  977 1277 1346 1715 2250]\n",
      " [ 303  105    0  433  568  872 1172 1241 1610 2145]\n",
      " [ 736  538  433    0  135  439  739  808 1177 1712]\n",
      " [ 871  673  568  135    0  304  604  673 1042 1577]\n",
      " [1175  977  872  439  304    0  300  369  738 1273]\n",
      " [1475 1277 1172  739  604  300    0   69  438  973]\n",
      " [1544 1346 1241  808  673  369   69    0  369  904]\n",
      " [1913 1715 1610 1177 1042  738  438  369    0  535]\n",
      " [2448 2250 2145 1712 1577 1273  973  904  535    0]] [[   0.          318.65011315  487.63123376 1184.47718826 1401.73862905\n",
      "  1890.97920681 2373.78240855 2484.82714495 3078.67508309 3939.67412619]\n",
      " [ 318.65011315    0.          168.98112061  865.82707512 1083.0885159\n",
      "  1572.32909366 2055.1322954  2166.1770318  2760.02496994 3621.02401304]\n",
      " [ 487.63123376  168.98112061    0.          696.84595451  914.10739529\n",
      "  1403.34797305 1886.15117479 1997.19591119 2591.04384933 3452.04289243]\n",
      " [1184.47718826  865.82707512  696.84595451    0.          217.26144078\n",
      "   706.50201854 1189.30522028 1300.34995668 1894.19789482 2755.19693792]\n",
      " [1401.73862905 1083.0885159   914.10739529  217.26144078    0.\n",
      "   489.24057776  972.0437795  1083.0885159  1676.93645404 2537.93549714]\n",
      " [1890.97920681 1572.32909366 1403.34797305  706.50201854  489.24057776\n",
      "     0.          482.80320174  593.84793814 1187.69587628 2048.69491938]\n",
      " [2373.78240855 2055.1322954  1886.15117479 1189.30522028  972.0437795\n",
      "   482.80320174    0.          111.0447364   704.89267454 1565.89171764]\n",
      " [2484.82714495 2166.1770318  1997.19591119 1300.34995668 1083.0885159\n",
      "   593.84793814  111.0447364     0.          593.84793814 1454.84698124]\n",
      " [3078.67508309 2760.02496994 2591.04384933 1894.19789482 1676.93645404\n",
      "  1187.69587628  704.89267454  593.84793814    0.          860.9990431 ]\n",
      " [3939.67412619 3621.02401304 3452.04289243 2755.19693792 2537.93549714\n",
      "  2048.69491938 1565.89171764 1454.84698124  860.9990431     0.        ]]\n"
     ]
    }
   ],
   "source": [
    "milePositions = np.array([0, 198, 303, 736, 871, 1175, 1475, 1544, 1913, 2448])\n",
    "mileDistance = np.abs(milePositions - milePositions[:, None])\n",
    "kmDistance=mileDistance/0.62137119\n",
    "print(milePositions,mileDistance, kmDistance)"
   ]
  },
  {
   "cell_type": "markdown",
   "metadata": {},
   "source": [
    "7\\. **Prime numbers sieve**\n",
    "\n",
    "Compute the prime numbers in the 0-N (start with N=99) range with a sieve (mask).\n",
    "\n",
    "  * Constract a shape (N,) boolean array, which is the mask\n",
    "  * Identify the multiples of each number starting from 2 and set accordingly the corresponding mask element\n",
    "  * Apply the mask to obtain an array of ordered prime numbers\n",
    "  * Check the performances (with `timeit`); how does it scale with N?\n",
    "  * Implement the optimization suggested in the [sieve of Eratosthenes](https://en.wikipedia.org/wiki/Sieve_of_Eratosthenes)"
   ]
  },
  {
   "cell_type": "code",
   "execution_count": null,
   "metadata": {},
   "outputs": [],
   "source": []
  },
  {
   "cell_type": "markdown",
   "metadata": {},
   "source": [
    "8\\. **Diffusion using random walk**\n",
    "\n",
    "Consider a simple random walk process: at each step in time, a walker jumps right or left (+1 or -1) with equal probability. The goal is to find the typical distance from the origin of many random walkers after a given amount of time.\n",
    "\n",
    "*Hint*: create a 2D array where each row represents a walker, and each column represents a time step.\n",
    "\n",
    "  * Take 1000 walkers and let them walk for 200 steps\n",
    "  * Use `randint` to create a 2D array of size $walkers \\times steps$ with values -1 or 1\n",
    "  * Calculate the walking distances for each walker (e.g. by summing the elements in each row)\n",
    "  * Take the square of the previously-obtained array (element-wise)\n",
    "  * Compute the mean of the squared distances at each step (i.e. the mean along the columns)\n",
    "  * **Optional**: plot the average distances ($\\sqrt(distance^2)$) as a function of time (step)"
   ]
  },
  {
   "cell_type": "code",
   "execution_count": null,
   "metadata": {},
   "outputs": [],
   "source": []
  }
 ],
 "metadata": {
  "kernelspec": {
   "display_name": "Python 3 (ipykernel)",
   "language": "python",
   "name": "python3"
  },
  "language_info": {
   "codemirror_mode": {
    "name": "ipython",
    "version": 3
   },
   "file_extension": ".py",
   "mimetype": "text/x-python",
   "name": "python",
   "nbconvert_exporter": "python",
   "pygments_lexer": "ipython3",
   "version": "3.9.12"
  }
 },
 "nbformat": 4,
 "nbformat_minor": 2
}
